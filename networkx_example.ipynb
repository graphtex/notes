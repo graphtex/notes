{
  "cells": [
    {
      "cell_type": "code",
      "execution_count": 520,
      "metadata": {
        "colab": {
          "base_uri": "https://localhost:8080/"
        },
        "id": "tGqLaSSbK3SK",
        "outputId": "516d29d3-5c22-457b-ba20-6adc1f16c1d1"
      },
      "outputs": [
        {
          "output_type": "stream",
          "name": "stdout",
          "text": [
            "Looking in indexes: https://pypi.org/simple, https://us-python.pkg.dev/colab-wheels/public/simple/\n",
            "Requirement already satisfied: networkx==3.0 in /usr/local/lib/python3.9/dist-packages (3.0)\n",
            "Looking in indexes: https://pypi.org/simple, https://us-python.pkg.dev/colab-wheels/public/simple/\n",
            "Requirement already satisfied: scipy==1.9.0 in /usr/local/lib/python3.9/dist-packages (1.9.0)\n",
            "Requirement already satisfied: numpy<1.25.0,>=1.18.5 in /usr/local/lib/python3.9/dist-packages (from scipy==1.9.0) (1.22.4)\n"
          ]
        }
      ],
      "source": [
        "!pip install 'networkx==3.0'\n",
        "!pip install 'scipy==1.9.0'"
      ]
    },
    {
      "cell_type": "code",
      "execution_count": 521,
      "metadata": {
        "id": "7v56ei6UK3SO"
      },
      "outputs": [],
      "source": [
        "import networkx as nx\n",
        "import numpy as np\n",
        "import torch"
      ]
    },
    {
      "cell_type": "code",
      "source": [
        "# Random test data\n",
        "import random\n",
        "num_nodes = 2\n",
        "radius = [(i + 1) * .1 for i in range(num_nodes)]\n",
        "labels = [i for i in range(num_nodes)]"
      ],
      "metadata": {
        "id": "uvzQROUGLsNN"
      },
      "execution_count": 522,
      "outputs": []
    },
    {
      "cell_type": "code",
      "execution_count": 523,
      "metadata": {
        "id": "mmKePvlCK3SP"
      },
      "outputs": [],
      "source": [
        "G = nx.fast_gnp_random_graph(num_nodes, 0.6)"
      ]
    },
    {
      "cell_type": "code",
      "execution_count": 524,
      "metadata": {
        "id": "7hQvKSLQK3SQ"
      },
      "outputs": [],
      "source": [
        "pos = nx.spring_layout(G)"
      ]
    },
    {
      "cell_type": "code",
      "execution_count": 525,
      "metadata": {
        "colab": {
          "base_uri": "https://localhost:8080/"
        },
        "id": "ZW6aGCLmK3SQ",
        "outputId": "81a9e7a6-b83e-46ad-e6aa-6b73c32d6790"
      },
      "outputs": [
        {
          "output_type": "execute_result",
          "data": {
            "text/plain": [
              "{0: array([-0.19170954, -1.        ]), 1: array([0.19170954, 1.        ])}"
            ]
          },
          "metadata": {},
          "execution_count": 525
        }
      ],
      "source": [
        "pos"
      ]
    },
    {
      "cell_type": "code",
      "execution_count": 526,
      "metadata": {
        "colab": {
          "base_uri": "https://localhost:8080/"
        },
        "id": "pE4CilqqK3SQ",
        "outputId": "f7bf08e8-f55b-41e0-aa73-e139d6f2f54d"
      },
      "outputs": [
        {
          "output_type": "execute_result",
          "data": {
            "text/plain": [
              "array([[0., 0.],\n",
              "       [0., 0.]])"
            ]
          },
          "metadata": {},
          "execution_count": 526
        }
      ],
      "source": [
        "adjacency = nx.adjacency_matrix(G).toarray()\n",
        "adjacency"
      ]
    },
    {
      "cell_type": "code",
      "source": [],
      "metadata": {
        "id": "EVfj_-h5X51S"
      },
      "execution_count": 526,
      "outputs": []
    },
    {
      "cell_type": "code",
      "source": [
        "# Generate bounding box points for training data\n",
        "\n",
        "def format_box(x1, y1, x2, y2):\n",
        "  return [min(x1, x2), min(y1, y2), max(x1, x2), max(y1, y2)]\n",
        "\n",
        "\n",
        "import math\n",
        "\n",
        "boxes = np.array([[0, 0, 0, 0]])\n",
        "for i in range(len(pos)):\n",
        "  boxes = np.append(boxes, [format_box(pos[i][0] - radius[i], pos[i][1] - radius[i], pos[i][0] + radius[i], pos[i][1] + radius[i])], axis=0)\n",
        "\n",
        "for i in range(len(adjacency)):\n",
        "  for j in range(len(adjacency[i])):\n",
        "    if adjacency[i][j] == 1:\n",
        "      x1 = pos[i][0]\n",
        "      y1 = pos[i][1]\n",
        "      x2 = pos[j][0]\n",
        "      y2 = pos[j][1]\n",
        "\n",
        "      second_above = y2 > y1\n",
        "      second_right = x2 > x1\n",
        "      slope = (y2 - y1) / (x2 - x1)\n",
        "\n",
        "      x_delta_abs1 = math.sqrt(radius[i]**2 / (1 + slope**2))\n",
        "      y_delta_abs1 = abs(slope * x_delta_abs1)\n",
        "\n",
        "      x_delta_abs2 = math.sqrt(radius[j]**2 / (1 + slope**2))\n",
        "      y_delta_abs2 = abs(slope * x_delta_abs2)\n",
        "\n",
        "      box_x1 = x1 + x_delta_abs1 if second_right else x1 - x_delta_abs1\n",
        "      box_y1 = y1 + y_delta_abs1 if second_above else y1 - y_delta_abs1\n",
        "\n",
        "      box_x2 = x2 - x_delta_abs2 if second_right else x2 + x_delta_abs2\n",
        "      box_y2 = y2 - y_delta_abs2 if second_above else y2 + y_delta_abs2\n",
        "\n",
        "      # boxes = np.append(boxes, [format_box(box_x1, box_y1, box_x2, box_y2)], axis=0)\n",
        "out = {\"labels\": torch.Tensor(labels), \"boxes\": torch.Tensor(boxes)}"
      ],
      "metadata": {
        "id": "s41nfgTRLKWJ"
      },
      "execution_count": 527,
      "outputs": []
    },
    {
      "cell_type": "code",
      "execution_count": 528,
      "metadata": {
        "colab": {
          "base_uri": "https://localhost:8080/",
          "height": 248
        },
        "id": "jWG5tdVUK3SR",
        "outputId": "163f0a5c-2865-49bb-ef75-58a6b6d85d8b"
      },
      "outputs": [
        {
          "output_type": "display_data",
          "data": {
            "text/plain": [
              "<Figure size 432x288 with 1 Axes>"
            ],
            "image/png": "[encoded data removed]"
          },
          "metadata": {}
        }
      ],
      "source": [
        "import matplotlib.pyplot as plt\n",
        "nx.draw_networkx(G, pos)\n",
        "ax = plt.gca()\n",
        "ax.set_aspect('equal', adjustable='box')\n",
        "plt.axis('on')\n",
        "plt.savefig(\"graph.png\")"
      ]
    },
    {
      "cell_type": "code",
      "execution_count": 529,
      "metadata": {
        "colab": {
          "base_uri": "https://localhost:8080/",
          "height": 287
        },
        "id": "JMdXUIStK3SS",
        "outputId": "ceaa5d4e-75c2-4a1d-d949-433f083e8dbd"
      },
      "outputs": [
        {
          "output_type": "execute_result",
          "data": {
            "text/plain": [
              "(<Figure size 432x288 with 1 Axes>, <Axes: >)"
            ]
          },
          "metadata": {},
          "execution_count": 529
        },
        {
          "output_type": "display_data",
          "data": {
            "text/plain": [
              "<Figure size 432x288 with 1 Axes>"
            ],
            "image/png": "[encoded data removed]"
          },
          "metadata": {
            "needs_background": "light"
          }
        }
      ],
      "source": [
        "plt.subplots()"
      ]
    },
    {
      "cell_type": "code",
      "source": [
        "out[\"boxes\"]"
      ],
      "metadata": {
        "colab": {
          "base_uri": "https://localhost:8080/"
        },
        "id": "kA45iR18Y5ER",
        "outputId": "810bece8-9215-4c79-d701-24ae24a27b7d"
      },
      "execution_count": 530,
      "outputs": [
        {
          "output_type": "execute_result",
          "data": {
            "text/plain": [
              "tensor([[ 0.0000,  0.0000,  0.0000,  0.0000],\n",
              "        [-0.2917, -1.1000, -0.0917, -0.9000],\n",
              "        [-0.0083,  0.8000,  0.3917,  1.2000]])"
            ]
          },
          "metadata": {},
          "execution_count": 530
        }
      ]
    },
    {
      "cell_type": "code",
      "source": [
        "t.shape[1]\n",
        "t.shape[2]"
      ],
      "metadata": {
        "colab": {
          "base_uri": "https://localhost:8080/"
        },
        "id": "R11KGuUwoQbk",
        "outputId": "294df13b-820d-4071-dd97-376b917d17af"
      },
      "execution_count": 531,
      "outputs": [
        {
          "output_type": "execute_result",
          "data": {
            "text/plain": [
              "432"
            ]
          },
          "metadata": {},
          "execution_count": 531
        }
      ]
    },
    {
      "cell_type": "code",
      "execution_count": 532,
      "metadata": {
        "colab": {
          "base_uri": "https://localhost:8080/"
        },
        "id": "-01vN4zvK3ST",
        "outputId": "21a9f68b-ed5c-497a-fe3a-4c7e58f6c273"
      },
      "outputs": [
        {
          "output_type": "execute_result",
          "data": {
            "text/plain": [
              "tensor([[216.0000, 144.0000, 216.0000, 144.0000],\n",
              "        [152.9907, -14.4000, 196.1907,  14.4000],\n",
              "        [214.2093, 259.2000, 300.6093, 316.8000]])"
            ]
          },
          "metadata": {},
          "execution_count": 532
        }
      ],
      "source": [
        "# Display bounding boxes\n",
        "import torch\n",
        "from torchvision.utils import draw_bounding_boxes\n",
        "import torchvision.transforms as T\n",
        "from PIL import Image\n",
        "\n",
        "img = Image.open('graph.png').convert('RGB')\n",
        "t = T.functional.convert_image_dtype(T.ToTensor()(img), torch.uint8)\n",
        "\n",
        "\n",
        "# Transform coordinates\n",
        "for i in range(len(out[\"boxes\"])):\n",
        "  out[\"boxes\"][i][0] = (out[\"boxes\"][i][0] + 1) * t.shape[2] / 2\n",
        "  out[\"boxes\"][i][2] = (out[\"boxes\"][i][2] + 1) * t.shape[2] / 2\n",
        "  out[\"boxes\"][i][1] = (out[\"boxes\"][i][1] + 1) * t.shape[1] / 2\n",
        "  out[\"boxes\"][i][3] = (out[\"boxes\"][i][3] + 1) * t.shape[1] / 2\n",
        "\n",
        "out[\"boxes\"]"
      ]
    },
    {
      "cell_type": "code",
      "source": [
        "t_boxes = draw_bounding_boxes(t, out[\"boxes\"], colors = 'red', width=2)\n",
        "img_boxes = T.ToPILImage()(t_boxes)\n",
        "img_boxes.show()"
      ],
      "metadata": {
        "colab": {
          "base_uri": "https://localhost:8080/",
          "height": 305
        },
        "id": "kug6PD9Zdrwp",
        "outputId": "89a1b1df-2424-44fa-913d-37faca612bc8"
      },
      "execution_count": 533,
      "outputs": [
        {
          "output_type": "display_data",
          "data": {
            "text/plain": [
              "<PIL.Image.Image image mode=RGB size=432x288 at 0x7FB72687EF10>"
            ],
            "image/png": "[encoded data removed]"
          },
          "metadata": {}
        }
      ]
    },
    {
      "cell_type": "code",
      "source": [],
      "metadata": {
        "id": "NMKIts-QXimZ"
      },
      "execution_count": 533,
      "outputs": []
    }
  ],
  "metadata": {
    "kernelspec": {
      "display_name": "Python 3 (ipykernel)",
      "language": "python",
      "name": "python3"
    },
    "language_info": {
      "codemirror_mode": {
        "name": "ipython",
        "version": 3
      },
      "file_extension": ".py",
      "mimetype": "text/x-python",
      "name": "python",
      "nbconvert_exporter": "python",
      "pygments_lexer": "ipython3",
      "version": "3.8.10"
    },
    "colab": {
      "provenance": []
    }
  },
  "nbformat": 4,
  "nbformat_minor": 0
}
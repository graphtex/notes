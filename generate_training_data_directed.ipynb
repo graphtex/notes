{
  "cells": [
    {
      "cell_type": "code",
      "execution_count": 78,
      "id": "5537f8d2",
      "metadata": {
        "id": "5537f8d2"
      },
      "outputs": [],
      "source": [
        "import networkx as nx\n",
        "import numpy as np\n",
        "import string\n",
        "from random import sample\n",
        "import torch\n",
        "\n",
        "import matplotlib.pyplot as plt\n",
        "from matplotlib.font_manager import FontProperties\n",
        "plt.rcParams['figure.dpi'] = 300\n",
        "plt.rcParams['savefig.dpi'] = 300"
      ]
    },
    {
      "cell_type": "code",
      "source": [
        "object_to_code = {}\n",
        "for i in range(48, 58):\n",
        "  object_to_code[chr(i)] = i - 48\n",
        "for i in range(97, 123):\n",
        "  object_to_code[chr(i)] = i - 87"
      ],
      "metadata": {
        "id": "MAWqcuCjPuXP"
      },
      "id": "MAWqcuCjPuXP",
      "execution_count": 79,
      "outputs": []
    },
    {
      "cell_type": "code",
      "execution_count": 80,
      "id": "040a9698",
      "metadata": {
        "id": "040a9698"
      },
      "outputs": [],
      "source": [
        "# G = nx.fast_gnp_random_graph(5, 0.2, directed=True)\n",
        "# pos = nx.spring_layout(G)\n",
        "# with plt.xkcd():\n",
        "#     nx.draw_networkx(G, pos, arrowsize=10, with_labels=True, node_size=1000, node_color='black', edge_color='black',\n",
        "#                     font_size=15, font_family='Bradley Hand')\n",
        "#     plt.savefig('graph')"
      ]
    },
    {
      "cell_type": "code",
      "execution_count": 81,
      "id": "17e32766",
      "metadata": {
        "colab": {
          "base_uri": "https://localhost:8080/",
          "height": 1000
        },
        "id": "17e32766",
        "outputId": "50f5f98f-0ed2-4fec-be3d-79ae4a258392"
      },
      "outputs": [
        {
          "output_type": "stream",
          "name": "stderr",
          "text": [
            "WARNING:matplotlib.font_manager:findfont: Font family 'Bradley Hand' not found.\n",
            "WARNING:matplotlib.font_manager:findfont: Font family 'Bradley Hand' not found.\n",
            "WARNING:matplotlib.font_manager:findfont: Font family 'Bradley Hand' not found.\n",
            "WARNING:matplotlib.font_manager:findfont: Font family 'Bradley Hand' not found.\n",
            "WARNING:matplotlib.font_manager:findfont: Font family 'Bradley Hand' not found.\n",
            "WARNING:matplotlib.font_manager:findfont: Font family 'Bradley Hand' not found.\n",
            "WARNING:matplotlib.font_manager:findfont: Font family 'Bradley Hand' not found.\n",
            "WARNING:matplotlib.font_manager:findfont: Font family 'Bradley Hand' not found.\n",
            "WARNING:matplotlib.font_manager:findfont: Font family 'Bradley Hand' not found.\n",
            "WARNING:matplotlib.font_manager:findfont: Font family 'Bradley Hand' not found.\n",
            "WARNING:matplotlib.font_manager:findfont: Font family 'Bradley Hand' not found.\n",
            "WARNING:matplotlib.font_manager:findfont: Font family 'Bradley Hand' not found.\n",
            "WARNING:matplotlib.font_manager:findfont: Font family 'Bradley Hand' not found.\n",
            "WARNING:matplotlib.font_manager:findfont: Font family 'Bradley Hand' not found.\n",
            "WARNING:matplotlib.font_manager:findfont: Font family 'Bradley Hand' not found.\n",
            "WARNING:matplotlib.font_manager:findfont: Font family 'Bradley Hand' not found.\n",
            "WARNING:matplotlib.font_manager:findfont: Font family 'Bradley Hand' not found.\n",
            "WARNING:matplotlib.font_manager:findfont: Font family 'Bradley Hand' not found.\n",
            "WARNING:matplotlib.font_manager:findfont: Font family 'Bradley Hand' not found.\n",
            "WARNING:matplotlib.font_manager:findfont: Font family 'Bradley Hand' not found.\n",
            "WARNING:matplotlib.font_manager:findfont: Font family 'Bradley Hand' not found.\n",
            "WARNING:matplotlib.font_manager:findfont: Font family 'Bradley Hand' not found.\n",
            "WARNING:matplotlib.font_manager:findfont: Font family 'Bradley Hand' not found.\n",
            "WARNING:matplotlib.font_manager:findfont: Font family 'Bradley Hand' not found.\n",
            "WARNING:matplotlib.font_manager:findfont: Font family 'Bradley Hand' not found.\n"
          ]
        },
        {
          "output_type": "display_data",
          "data": {
            "text/plain": [
              "<Figure size 1800x1200 with 1 Axes>"
            ],
            "image/png": "[encoded data removed]"
          },
          "metadata": {}
        }
      ],
      "source": [
        "all_labels = list(string.ascii_lowercase) + [chr(num) for num in range(48, 58)]\n",
        "\n",
        "n = 3\n",
        "p = .5\n",
        "\n",
        "# create graph\n",
        "G = nx.fast_gnp_random_graph(n, p, directed=True)\n",
        "\n",
        "\n",
        "# relabel nodes\n",
        "labels = dict(zip(nx.spring_layout(G).keys(), sample(all_labels, n)))\n",
        "backwards_labels = {labels[key]: key for key in labels}\n",
        "nx.relabel_nodes(G, labels, copy=False)\n",
        "G.remove_edges_from(list(nx.selfloop_edges(G)))\n",
        "adjacency = nx.adjacency_matrix(G).toarray()\n",
        "\n",
        "\n",
        "# draw graph\n",
        "options = {\n",
        "    \"font_size\": 5,\n",
        "    \"font_family\": 'Bradley Hand',\n",
        "    \"node_size\": 125,\n",
        "    # \"arrowsize\": 25,\n",
        "    \"node_color\": \"white\",\n",
        "    \"edgecolors\": \"black\",\n",
        "    \"linewidths\": 1,\n",
        "    \"width\": 1,\n",
        "}\n",
        "\n",
        "pos = nx.spring_layout(G)\n",
        "nx.draw_networkx(G, pos, **options)\n",
        "# set margins for the axes so that nodes aren't clipped\n",
        "ax = plt.gca()\n",
        "ax.set_aspect('equal', adjustable='box')\n",
        "plt.xlim([-2,2])\n",
        "plt.ylim([-2,2])\n",
        "plt.axis(\"off\")\n",
        "plt.savefig('graph', bbox_inches='tight', pad_inches=0)\n",
        "plt.show()"
      ]
    },
    {
      "cell_type": "code",
      "source": [
        "labels"
      ],
      "metadata": {
        "colab": {
          "base_uri": "https://localhost:8080/"
        },
        "id": "r2RSn8rOCKN7",
        "outputId": "fc1c3429-f5d1-4120-9eec-04d3fb61e25b"
      },
      "id": "r2RSn8rOCKN7",
      "execution_count": 82,
      "outputs": [
        {
          "output_type": "execute_result",
          "data": {
            "text/plain": [
              "{0: 'k', 1: 'r', 2: 'i'}"
            ]
          },
          "metadata": {},
          "execution_count": 82
        }
      ]
    },
    {
      "cell_type": "code",
      "execution_count": 83,
      "id": "e28449dc",
      "metadata": {
        "id": "e28449dc"
      },
      "outputs": [],
      "source": [
        "# Generate bounding box points for training data\n",
        "radius = [.11 for i in range(n)]\n",
        "def format_box(x1, y1, x2, y2):\n",
        "    return [min(x1, x2), min(y1, y2), max(x1, x2), max(y1, y2)]\n",
        "\n",
        "letters_radius = .05\n",
        "import math\n",
        "\n",
        "boxes = []\n",
        "training_labels = []\n",
        "for k in pos.keys():\n",
        "    i = backwards_labels[k]\n",
        "    boxes.append(format_box(pos[k][0] - radius[i], pos[k][1] - radius[i], pos[k][0] + radius[i], pos[k][1] + radius[i]))\n",
        "    training_labels.append(36)\n",
        "\n",
        "for k in pos.keys():\n",
        "  boxes.append(format_box(pos[k][0] - letters_radius, pos[k][1] - letters_radius, pos[k][0] + letters_radius, pos[k][1] + letters_radius))\n",
        "  if k in object_to_code:\n",
        "    training_labels.append(object_to_code[k])\n",
        "\n",
        "for i in range(len(adjacency)):\n",
        "    for j in range(len(adjacency[i])):\n",
        "        letter = labels[i]\n",
        "        letter_2 = labels[j]\n",
        "        if adjacency[i][j] == 1:\n",
        "            x1 = pos[letter][0]\n",
        "            y1 = pos[letter][1]\n",
        "            x2 = pos[letter_2][0]\n",
        "            y2 = pos[letter_2][1]\n",
        "\n",
        "            second_above = y2 > y1\n",
        "            second_right = x2 > x1\n",
        "            slope = (y2 - y1) / (x2 - x1)\n",
        "\n",
        "            x_delta_abs1 = math.sqrt(radius[i]**2 / (1 + slope**2))\n",
        "            y_delta_abs1 = abs(slope * x_delta_abs1)\n",
        "\n",
        "            x_delta_abs2 = math.sqrt(radius[j]**2 / (1 + slope**2))\n",
        "            y_delta_abs2 = abs(slope * x_delta_abs2)\n",
        "\n",
        "            box_x1 = x1 + x_delta_abs1 if second_right else x1 - x_delta_abs1\n",
        "            box_y1 = y1 + y_delta_abs1 if second_above else y1 - y_delta_abs1\n",
        "\n",
        "            box_x2 = x2 - x_delta_abs2 if second_right else x2 + x_delta_abs2\n",
        "            box_y2 = y2 - y_delta_abs2 if second_above else y2 + y_delta_abs2\n",
        "\n",
        "            boxes.append(format_box(box_x1, box_y1, box_x2, box_y2))\n",
        "            \n",
        "            if second_above and second_right: \n",
        "              training_labels.append(40)\n",
        "            elif second_above and not second_right:\n",
        "              training_labels.append(42)\n",
        "            elif not second_above and second_right:\n",
        "              training_labels.append(43)\n",
        "            elif not second_above and not second_right:\n",
        "              training_labels.append(41)\n",
        "\n",
        "out = {\"labels\": torch.Tensor([training_labels]), \"boxes\": torch.Tensor(np.array(boxes))}\n"
      ]
    },
    {
      "cell_type": "code",
      "source": [
        "pos"
      ],
      "metadata": {
        "colab": {
          "base_uri": "https://localhost:8080/"
        },
        "id": "wwIymu-4-Gl2",
        "outputId": "91a73989-eb6a-446d-fccd-9e9aeaec2aff"
      },
      "id": "wwIymu-4-Gl2",
      "execution_count": 84,
      "outputs": [
        {
          "output_type": "execute_result",
          "data": {
            "text/plain": [
              "{'k': array([ 0.36901975, -0.99999996]),\n",
              " 'r': array([-1.04520609e-07, -3.85701650e-08]),\n",
              " 'i': array([-0.36901965,  1.        ])}"
            ]
          },
          "metadata": {},
          "execution_count": 84
        }
      ]
    },
    {
      "cell_type": "code",
      "source": [
        "out[\"boxes\"]"
      ],
      "metadata": {
        "colab": {
          "base_uri": "https://localhost:8080/"
        },
        "id": "yND7v5KT6xfI",
        "outputId": "bea83bbe-804e-4b8d-87a2-05e9a1619726"
      },
      "id": "yND7v5KT6xfI",
      "execution_count": 85,
      "outputs": [
        {
          "output_type": "execute_result",
          "data": {
            "text/plain": [
              "tensor([[ 0.2590, -1.1100,  0.4790, -0.8900],\n",
              "        [-0.1100, -0.1100,  0.1100,  0.1100],\n",
              "        [-0.4790,  0.8900, -0.2590,  1.1100],\n",
              "        [ 0.3190, -1.0500,  0.4190, -0.9500],\n",
              "        [-0.0500, -0.0500,  0.0500,  0.0500],\n",
              "        [-0.4190,  0.9500, -0.3190,  1.0500],\n",
              "        [ 0.0381, -0.8968,  0.3309, -0.1032],\n",
              "        [-0.3309,  0.1032, -0.0381,  0.8968]])"
            ]
          },
          "metadata": {},
          "execution_count": 85
        }
      ]
    },
    {
      "cell_type": "code",
      "execution_count": 86,
      "id": "51d93ab1",
      "metadata": {
        "colab": {
          "base_uri": "https://localhost:8080/"
        },
        "id": "51d93ab1",
        "outputId": "cc849275-8d3d-4646-bdab-7531941e54eb"
      },
      "outputs": [
        {
          "output_type": "execute_result",
          "data": {
            "text/plain": [
              "tensor([[511.1032, 654.5850, 560.8782, 704.4150],\n",
              "        [427.6125, 428.0850, 477.3875, 477.9150],\n",
              "        [344.1218, 201.5850, 393.8968, 251.4150],\n",
              "        [524.6782, 668.1750, 547.3032, 690.8250],\n",
              "        [441.1875, 441.6750, 463.8125, 464.3250],\n",
              "        [357.6968, 215.1750, 380.3218, 237.8250],\n",
              "        [461.1160, 476.3743, 527.3746, 656.1257],\n",
              "        [377.6254, 249.8743, 443.8839, 429.6257]])"
            ]
          },
          "metadata": {},
          "execution_count": 86
        }
      ],
      "source": [
        "# Display bounding boxes\n",
        "import torch\n",
        "from torchvision.utils import draw_bounding_boxes\n",
        "import torchvision.transforms as T\n",
        "from PIL import Image\n",
        "\n",
        "img = Image.open('graph.png').convert('RGB')\n",
        "t = T.functional.convert_image_dtype(T.ToTensor()(img), torch.uint8)\n",
        "\n",
        "\n",
        "# Transform coordinates\n",
        "for i in range(len(out[\"boxes\"])):\n",
        "    out[\"boxes\"][i][0] = t.shape[2] / 2 + out[\"boxes\"][i][0] * t.shape[2] / 4\n",
        "    out[\"boxes\"][i][2] = t.shape[2] / 2 + out[\"boxes\"][i][2] * t.shape[2] / 4\n",
        "    temp = t.shape[1] / 2 - out[\"boxes\"][i][1] * t.shape[1] / 4\n",
        "    out[\"boxes\"][i][1] = t.shape[1] / 2 - out[\"boxes\"][i][3] * t.shape[1] / 4\n",
        "    out[\"boxes\"][i][3] = temp\n",
        "\n",
        "out[\"boxes\"]\n"
      ]
    },
    {
      "cell_type": "code",
      "source": [],
      "metadata": {
        "id": "aSb-0tz46xK2"
      },
      "id": "aSb-0tz46xK2",
      "execution_count": 86,
      "outputs": []
    },
    {
      "cell_type": "code",
      "execution_count": 87,
      "id": "5b5d5bb6",
      "metadata": {
        "colab": {
          "base_uri": "https://localhost:8080/",
          "height": 1000
        },
        "id": "5b5d5bb6",
        "outputId": "4947b46c-203f-4654-db49-8940d97258ab"
      },
      "outputs": [
        {
          "output_type": "execute_result",
          "data": {
            "text/plain": [
              "<matplotlib.collections.PathCollection at 0x7f33c223c670>"
            ]
          },
          "metadata": {},
          "execution_count": 87
        },
        {
          "output_type": "display_data",
          "data": {
            "text/plain": [
              "<Figure size 1800x1200 with 1 Axes>"
            ],
            "image/png": "[encoded data removed]"
          },
          "metadata": {
            "needs_background": "light"
          }
        }
      ],
      "source": [
        "plt.imshow(img)\n",
        "plt.scatter(482.5000,  48.0000)"
      ]
    },
    {
      "cell_type": "code",
      "execution_count": 88,
      "id": "3e6fd551",
      "metadata": {
        "colab": {
          "base_uri": "https://localhost:8080/",
          "height": 923
        },
        "id": "3e6fd551",
        "outputId": "9e8af257-1b0f-4e7c-91ec-7749b621e836"
      },
      "outputs": [
        {
          "output_type": "display_data",
          "data": {
            "text/plain": [
              "<PIL.Image.Image image mode=RGB size=905x906 at 0x7F33C22C3E80>"
            ],
            "image/png": "[encoded data removed]"
          },
          "metadata": {}
        }
      ],
      "source": [
        "t_boxes = draw_bounding_boxes(t, out[\"boxes\"], colors = 'red', width=2)\n",
        "img_boxes = T.ToPILImage()(t_boxes)\n",
        "img_boxes.show()"
      ]
    },
    {
      "cell_type": "code",
      "execution_count": 89,
      "id": "5d79308d",
      "metadata": {
        "id": "5d79308d",
        "colab": {
          "base_uri": "https://localhost:8080/"
        },
        "outputId": "00dc78ff-b713-4581-e795-24cefdc487ce"
      },
      "outputs": [
        {
          "output_type": "execute_result",
          "data": {
            "text/plain": [
              "[36, 36, 36, 20, 27, 18, 43, 42]"
            ]
          },
          "metadata": {},
          "execution_count": 89
        }
      ],
      "source": [
        "training_labels"
      ]
    },
    {
      "cell_type": "code",
      "execution_count": 89,
      "id": "25ff9d2e",
      "metadata": {
        "id": "25ff9d2e"
      },
      "outputs": [],
      "source": []
    }
  ],
  "metadata": {
    "kernelspec": {
      "display_name": "Python 3 (ipykernel)",
      "language": "python",
      "name": "python3"
    },
    "language_info": {
      "codemirror_mode": {
        "name": "ipython",
        "version": 3
      },
      "file_extension": ".py",
      "mimetype": "text/x-python",
      "name": "python",
      "nbconvert_exporter": "python",
      "pygments_lexer": "ipython3",
      "version": "3.9.2"
    },
    "colab": {
      "provenance": []
    }
  },
  "nbformat": 4,
  "nbformat_minor": 5
}